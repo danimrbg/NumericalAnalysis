{
 "cells": [
  {
   "cell_type": "markdown",
   "metadata": {},
   "source": [
    "# Método de Muller"
   ]
  },
  {
   "cell_type": "markdown",
   "metadata": {},
   "source": [
    "O método de Muller é um algoritmo que define uma sequência a ser utilizada para encontrar raízes de funções, principalmente funções polinomiais. "
   ]
  },
  {
   "cell_type": "markdown",
   "metadata": {},
   "source": [
    "O método consiste na construção de uma sequência semelhante a da sequência construída no método da secante. Relembramos que o método da secante é iniciado com dois valores iniciais $x_0$ e $x_1$ e a função $f$ e o próximo termo da sequência $x_2$ é calculado por meio da abscissa do ponto de interseção do eixo $x$ com a reta que contém os pontos $(x_0,f(x_0))$ e $(x_1,f(x_1))$. Todavia, o método de Muller recebe três valores $x_0$, $x_1$ e $x_2$ e a função $f$ de modo que o termo $x_3$ seja calculado por meio da interseção do eixo $x$ com a parábola que contém os pontos $(x_0,f(x_0))$, $(x_1,f(x_1))$ e $(x_2,f(x_2))$.  "
   ]
  },
  {
   "cell_type": "markdown",
   "metadata": {},
   "source": [
    "Logo, para determinar o ponto $x_3$ começamos com um polinômio de segundo grau que contém os pontos acima. Isto é, \n",
    "$$P(x)=a(x-x_2)^2+b(x-x_2)+c$$\n",
    "satisfazendo $f(x_0)=P(x_0)$, $f(x_1)=P(x_1)$ e $f(x_2)=P(x_2)$.\n",
    "\n",
    "Assim, as constantes $a$, $b$ e $c$ podem ser determinadas por meio da solução do sistema\n",
    "$$\n",
    "\\left\\{\\begin{aligned}\n",
    "    &f(x_0)=a(x_0-x_2)^2+b(x_0-x_2)+c\\\\\n",
    "    &f(x_1)=a(x_1-x_2)^2+b(x_1-x_2)+c\\\\\n",
    "    &f(x_2)=a(x_2-x_2)^2+b(x_2-x_2)+c.\n",
    "\\end{aligned}\\right.\n",
    "$$\n",
    "\n",
    "e teremos $a=\\frac{(x_1-x_2)[f(x_0)-f(x_2)]-(x_0-x_2)[f(x_1)-f(x_2)]}{(x_0-x_2)(x_1-x_2)(x_0-x_1)}$, $b=\\frac{(x_0-x_2)^2[f(x_1)-f(x_2)]-(x_1-x_2)^2[f(x_0)-f(x_2)]}{(x_0-x_2)(x_1-x_2)(x_0-x_1)}$ e $c=f(x_2)$.\n",
    "\n",
    "Agora, queremos determinar $x_3$ tal que $P(x_3)=0$ em que $x_3=\\overline{x}+x_2$. Assim,\n",
    "$$\n",
    "P(x_3)=0\\iff P(\\overline{x}+x_2)=0\\iff a\\overline{x}^{2}+b\\overline{x}+c=0\n",
    "$$\n",
    "\n",
    "Resolvendo a equação de segundo grau para $\\overline{x}$ usando a fórmula que dirime os erros de arredondamento, obtém-se\n",
    "$$\n",
    "\\overline{x}=\\frac{-2c}{b\\pm\\sqrt{b^2-4ac}},\n",
    "$$\n",
    "isto é,\n",
    "$$\n",
    "x_3=x_2+\\frac{-2c}{b\\pm\\sqrt{b^2-4ac}}.\n",
    "$$\n",
    "\n",
    "Desta maneira, $x_3$ admite duas soluções por conta do sinal do radical, o que é esperado. Entretanto, para que $x_3$ esteja o mais próximo de $x_2$, o sinal do radical é dado pelo mesmo sinal de $b$. Portanto,\n",
    "$$\n",
    "x_3=x_2+\\frac{-2c}{b+\\text{sgb}(b)\\sqrt{b^2-4ac}}.\n",
    "$$\n"
   ]
  },
  {
   "cell_type": "markdown",
   "metadata": {},
   "source": [
    "Com o valor de $x_3$ determinado, o procedimento para calcular $x_4$ é análogo ao $x_3$ ao considerar os pontos $(x_1,f(x_1))$, $(x_2,f(x_2))$ e $(x_3,f(x_3))$. De modo indutivo, o procedimento para calcular $x_n$ depende dos pontos $(x_{n-3},f(x_{n-3}))$, $(x_{n-2},f(x_{n-2}))$ e $(x_{n-1},f(x_{n-1}))$. A condição de parada para o algoritmo é determinada pela magnitude do valor absoluto de $x_n-x_{n-1}$ de modo que $x_n\\approx x$ e $f(x)=0$."
   ]
  }
 ],
 "metadata": {
  "language_info": {
   "name": "python"
  }
 },
 "nbformat": 4,
 "nbformat_minor": 2
}
